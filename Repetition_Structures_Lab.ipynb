{
  "nbformat": 4,
  "nbformat_minor": 0,
  "metadata": {
    "colab": {
      "provenance": [],
      "include_colab_link": true
    },
    "kernelspec": {
      "name": "python3",
      "display_name": "Python 3"
    },
    "language_info": {
      "name": "python"
    }
  },
  "cells": [
    {
      "cell_type": "markdown",
      "metadata": {
        "id": "view-in-github",
        "colab_type": "text"
      },
      "source": [
        "<a href=\"https://colab.research.google.com/github/Rutheniumruto/TeknoMinerbaInternship/blob/main/Repetition_Structures_Lab.ipynb\" target=\"_parent\"><img src=\"https://colab.research.google.com/assets/colab-badge.svg\" alt=\"Open In Colab\"/></a>"
      ]
    },
    {
      "cell_type": "markdown",
      "source": [
        "# Repetition Structures Lab"
      ],
      "metadata": {
        "id": "eX4KhUieM0dN"
      }
    },
    {
      "cell_type": "markdown",
      "source": [
        "Turn off AI: Tools -> Settings -> Hide generative AI features\n",
        "\n"
      ],
      "metadata": {
        "id": "GaAxAaXTLIbW"
      }
    },
    {
      "cell_type": "markdown",
      "source": [
        "**Q1**: What is the output of this program?\n",
        "```python\n",
        "x = 0\n",
        "while x < 5:\n",
        "  print(x)\n",
        "  x += 1\n",
        "```"
      ],
      "metadata": {
        "id": "Bs5YKTBEeaoF"
      }
    },
    {
      "cell_type": "code",
      "source": [
        "0\n",
        "1\n",
        "2\n",
        "3\n",
        "4"
      ],
      "metadata": {
        "id": "ZCjF_jvNeaLW"
      },
      "execution_count": null,
      "outputs": []
    },
    {
      "cell_type": "markdown",
      "source": [
        "**Q2**: What is the output of this program?\n",
        "```python\n",
        "for i in range(3):\n",
        "  print(\"Hello\")\n",
        "```"
      ],
      "metadata": {
        "id": "7uU5beN4ehvt"
      }
    },
    {
      "cell_type": "code",
      "execution_count": null,
      "metadata": {
        "id": "1K8n-Uc5dmzb"
      },
      "outputs": [],
      "source": [
        "Hello\n",
        "Hello\n",
        "Hello"
      ]
    },
    {
      "cell_type": "markdown",
      "source": [
        "**Q3**: What is the output of this program?\n",
        "```python\n",
        "for i in range(1, 10, 2):\n",
        "    print(i, end=\":\")\n",
        "```"
      ],
      "metadata": {
        "id": "lI_hvX12eoUH"
      }
    },
    {
      "cell_type": "code",
      "source": [
        "1:3:5:7:9:"
      ],
      "metadata": {
        "id": "MeYG88CBeokY"
      },
      "execution_count": null,
      "outputs": []
    },
    {
      "cell_type": "markdown",
      "source": [
        "**Q4**: What is the output of this program?\n",
        "```python\n",
        "x = 5\n",
        "while x > 0:\n",
        "  print(x)\n",
        "  x -= 2\n",
        "```"
      ],
      "metadata": {
        "id": "_moqB6gCe1_D"
      }
    },
    {
      "cell_type": "code",
      "source": [
        "5\n",
        "3\n",
        "1"
      ],
      "metadata": {
        "id": "FWhCASXke9I9"
      },
      "execution_count": null,
      "outputs": []
    },
    {
      "cell_type": "markdown",
      "source": [
        "**Q5**: What is the output of this program?\n",
        "\n",
        "```python\n",
        "i = 1\n",
        "while i <= 16:\n",
        "  print(i, end=\" \")\n",
        "  i *= 2\n",
        "```"
      ],
      "metadata": {
        "id": "HPrd-TxIe9gY"
      }
    },
    {
      "cell_type": "code",
      "source": [
        "1 2 4 8 16"
      ],
      "metadata": {
        "id": "X8qAblE7fA7_"
      },
      "execution_count": null,
      "outputs": []
    },
    {
      "cell_type": "markdown",
      "source": [
        "**Q6**: What is the output of this program?\n",
        "\n",
        "```python\n",
        "total = 0\n",
        "count = 1\n",
        "while count < 7:\n",
        "  total += 1\n",
        "  count += 1\n",
        "print(count)\n",
        "```"
      ],
      "metadata": {
        "id": "ezFzRUQDhbl9"
      }
    },
    {
      "cell_type": "code",
      "source": [
        "7"
      ],
      "metadata": {
        "id": "4htDK1vuhbMc"
      },
      "execution_count": null,
      "outputs": []
    },
    {
      "cell_type": "markdown",
      "source": [
        "**Q7**: What is the output of this program?\n",
        "\n",
        "```python\n",
        "total = 0\n",
        "for i in range(1,10,2):\n",
        "  total = total + i\n",
        "print(i)\n",
        "```"
      ],
      "metadata": {
        "id": "PfMA9qpifG72"
      }
    },
    {
      "cell_type": "code",
      "source": [
        "25"
      ],
      "metadata": {
        "id": "Mdm7VlpbfGoq"
      },
      "execution_count": null,
      "outputs": []
    },
    {
      "cell_type": "markdown",
      "source": [
        "**Q8**: What is the output of this program?\n",
        "\n",
        "```python\n",
        "for num in [1 , 7, 4, 20, 2]:\n",
        "  if num % 2 == 0:\n",
        "    break\n",
        "  print(num)\n",
        "```"
      ],
      "metadata": {
        "id": "M4OD9PYIfIWa"
      }
    },
    {
      "cell_type": "code",
      "source": [
        "1\n",
        "7"
      ],
      "metadata": {
        "id": "BU_L_3AIfJa7"
      },
      "execution_count": null,
      "outputs": []
    },
    {
      "cell_type": "markdown",
      "source": [
        "**Q9**: What is the output of this program?\n",
        "\n",
        "```python\n",
        "count = 0\n",
        "numbers = [1, 2, 3, 4 ,5 ,6]\n",
        "for num in numbers:\n",
        "  if num%2==1:\n",
        "    count += 1\n",
        "print(count)\n",
        "```"
      ],
      "metadata": {
        "id": "Vyq639fdg47h"
      }
    },
    {
      "cell_type": "code",
      "source": [
        "2 4 6"
      ],
      "metadata": {
        "id": "D6pCf9pvg5OR"
      },
      "execution_count": null,
      "outputs": []
    },
    {
      "cell_type": "markdown",
      "source": [
        "**Q10**: What is the output of this program?\n",
        "\n",
        "```python\n",
        "target = 'AAA'\n",
        "words = ['A','AA','AAA','AA','BBB','AAA','C','AAA']\n",
        "n_target = 0\n",
        "n_non_target = 0\n",
        "for word in words:\n",
        "  if word == target:\n",
        "    n_target += 1\n",
        "  else:\n",
        "    n_non_target += 2\n",
        "print(n_target, n_non_target)\n",
        "```"
      ],
      "metadata": {
        "id": "lLtcznuZfJs5"
      }
    },
    {
      "cell_type": "code",
      "source": [
        "3 10"
      ],
      "metadata": {
        "id": "n_RhWnjsfK61"
      },
      "execution_count": null,
      "outputs": []
    },
    {
      "cell_type": "markdown",
      "source": [
        "**Q11**: Fill in the blank to print numbers from 0 to 4:"
      ],
      "metadata": {
        "id": "BXun9vqsh1ou"
      }
    },
    {
      "cell_type": "code",
      "source": [
        "for i in range(5):\n",
        "  print(i)"
      ],
      "metadata": {
        "id": "fuZXpzA3h116",
        "colab": {
          "base_uri": "https://localhost:8080/"
        },
        "outputId": "cc9b7b19-5dc4-4d2c-8fa1-8f017bb34d93"
      },
      "execution_count": 1,
      "outputs": [
        {
          "output_type": "stream",
          "name": "stdout",
          "text": [
            "0\n",
            "1\n",
            "2\n",
            "3\n",
            "4\n"
          ]
        }
      ]
    },
    {
      "cell_type": "markdown",
      "source": [
        "**Q12**: Fill in the blank to print out 'Welcome' 4 times"
      ],
      "metadata": {
        "id": "FF6JC8o2iKGT"
      }
    },
    {
      "cell_type": "code",
      "source": [
        "n = 4\n",
        "for i in range(n):\n",
        "  print('Welcome')"
      ],
      "metadata": {
        "id": "vkWuGAgUiOpN",
        "colab": {
          "base_uri": "https://localhost:8080/"
        },
        "outputId": "45fb8a30-41c4-475f-ff62-7cc5297f8c40"
      },
      "execution_count": 4,
      "outputs": [
        {
          "output_type": "stream",
          "name": "stdout",
          "text": [
            "Welcome\n",
            "Welcome\n",
            "Welcome\n",
            "Welcome\n"
          ]
        }
      ]
    },
    {
      "cell_type": "markdown",
      "source": [
        "**Q13**: Fill in the blank so that the code print out 7 4 1"
      ],
      "metadata": {
        "id": "8TFV0HFriPDW"
      }
    },
    {
      "cell_type": "code",
      "source": [
        "for i in range(7, 0,-3):\n",
        "  print(i, end=' ')"
      ],
      "metadata": {
        "id": "WH3FQQBtiQD6",
        "colab": {
          "base_uri": "https://localhost:8080/"
        },
        "outputId": "37f15b0b-7845-4303-af4d-7556a2918504"
      },
      "execution_count": 7,
      "outputs": [
        {
          "output_type": "stream",
          "name": "stdout",
          "text": [
            "7 4 1 "
          ]
        }
      ]
    },
    {
      "cell_type": "markdown",
      "source": [
        "**Q14**: Fill in the blank so that the program print out 0 1 2 3"
      ],
      "metadata": {
        "id": "35UcY0TQiQYg"
      }
    },
    {
      "cell_type": "code",
      "source": [
        "count = 0\n",
        "while count < 10:\n",
        "  print(count, end=' ')\n",
        "  if count == 3:  #Fill in your code here\n",
        "    break\n",
        "  count += 1"
      ],
      "metadata": {
        "id": "mUdck6FaiSEU",
        "colab": {
          "base_uri": "https://localhost:8080/"
        },
        "outputId": "62f0dc77-d461-4a8c-e3a6-6b99ba95f0b3"
      },
      "execution_count": 10,
      "outputs": [
        {
          "output_type": "stream",
          "name": "stdout",
          "text": [
            "0 1 2 3 "
          ]
        }
      ]
    },
    {
      "cell_type": "markdown",
      "source": [
        "**Q15**: Fill in the blanks to create a countdown from 5 to 1"
      ],
      "metadata": {
        "id": "OiuwO9HiiSWc"
      }
    },
    {
      "cell_type": "code",
      "source": [
        "x = 5\n",
        "while x > 0:\n",
        "  print(x)\n",
        "  x -= 1"
      ],
      "metadata": {
        "id": "qDLV5rZ9iTp0",
        "colab": {
          "base_uri": "https://localhost:8080/"
        },
        "outputId": "bb861222-8b49-4db8-db25-e853aaa4e61e"
      },
      "execution_count": 11,
      "outputs": [
        {
          "output_type": "stream",
          "name": "stdout",
          "text": [
            "5\n",
            "4\n",
            "3\n",
            "2\n",
            "1\n"
          ]
        }
      ]
    },
    {
      "cell_type": "markdown",
      "source": [
        "**Q16**: Fill in the blanks to calculate the sum of squared numbers from 1 to 10. $1^2 + 2^2 + 3^2 + 4^2 ... + 9^2 + 10^2$"
      ],
      "metadata": {
        "id": "oBZuaWAvHVxa"
      }
    },
    {
      "cell_type": "code",
      "source": [
        "total = 0\n",
        "for num in range(1, 11):\n",
        "  total += num**2\n",
        "print(total)"
      ],
      "metadata": {
        "id": "5iS4DTKPHWF3",
        "colab": {
          "base_uri": "https://localhost:8080/"
        },
        "outputId": "552fabe4-34ee-46ed-a8b5-bf2874ce61ff"
      },
      "execution_count": 12,
      "outputs": [
        {
          "output_type": "stream",
          "name": "stdout",
          "text": [
            "385\n"
          ]
        }
      ]
    },
    {
      "cell_type": "markdown",
      "source": [
        "**Q17**: Fill in the blank so that the program prints out 20."
      ],
      "metadata": {
        "id": "6btXaI3BIEsL"
      }
    },
    {
      "cell_type": "code",
      "source": [
        "count = 0\n",
        "for num in range(10):\n",
        "  if num % 2 == 0:\n",
        "    count += num     # Fill in here\n",
        "print(count)"
      ],
      "metadata": {
        "id": "FsPJLrqCIGDT",
        "colab": {
          "base_uri": "https://localhost:8080/"
        },
        "outputId": "c689b9b1-d10c-48d9-d89e-df337cc94fc2"
      },
      "execution_count": 13,
      "outputs": [
        {
          "output_type": "stream",
          "name": "stdout",
          "text": [
            "20\n"
          ]
        }
      ]
    },
    {
      "cell_type": "markdown",
      "source": [
        "**Q18**: Fill in the blank so that the program prints out 28."
      ],
      "metadata": {
        "id": "bi1ipRdtJ26F"
      }
    },
    {
      "cell_type": "code",
      "source": [
        "total = 0\n",
        "x = 10\n",
        "while x > 2: # Fill in here\n",
        "  total += x\n",
        "  x -= 2\n",
        "print(total)"
      ],
      "metadata": {
        "id": "ht9KU0YdJ6gN",
        "colab": {
          "base_uri": "https://localhost:8080/"
        },
        "outputId": "c8e6a2dc-f2e1-4afc-f2ea-3f12ba775dfd"
      },
      "execution_count": 73,
      "outputs": [
        {
          "output_type": "stream",
          "name": "stdout",
          "text": [
            "28\n"
          ]
        }
      ]
    },
    {
      "cell_type": "markdown",
      "source": [
        "**Q19**: Calculate sum from user\n",
        "\n",
        "เขียนโปรแกรมเพื่อคำนวณค่าผลรวมจากตัวเลขที่ผู้ใช้งานพิมพ์เข้ามา โปรแกรมจะถามผู้ใช้งานให้พิมพ์ตัวเลขเข้ามาเรื่อยๆ จนกระทั่งผู้ใช้งานใส่ค่า -999999. เมื่อจบแล้วให้พิมพ์ค่าผลรวมทั้งหมดออกมา\n",
        "\n",
        "---\n",
        "\n",
        "Write a program to calculate a sum of numbers from user. Your program will keep asking user. When the user types -999999, stop and output the total.\n",
        "\n",
        "Input:\n",
        "- integer numbers from users\n",
        "\n",
        "Output:\n",
        "- The sum of all number (not include -999999)\n",
        "\n",
        "Example 1:\n",
        "```\n",
        ">Enter a number: 5\n",
        ">Enter a number: 3\n",
        ">Enter a number: 10\n",
        ">Enter a number: -999999\n",
        "The total is 18\n",
        "```\n",
        "\n",
        "Example 2:\n",
        "```\n",
        ">Enter a number: 20  \n",
        ">Enter a number: -30\n",
        ">Enter a number: -999999\n",
        "The total is -10.\n",
        "```"
      ],
      "metadata": {
        "id": "xZ0IA4JFjUgO"
      }
    },
    {
      "cell_type": "code",
      "source": [
        "total = 0\n",
        "num = int(input(\">Enter a number: \"))\n",
        "while num != -999999:\n",
        "  total += num\n",
        "  num = int(input(\">Enter a number: \"))\n",
        "print(f\"The total is {total}\")"
      ],
      "metadata": {
        "id": "urPZxmHGjWKp",
        "colab": {
          "base_uri": "https://localhost:8080/"
        },
        "outputId": "4d4cb27c-3144-46a4-8611-db61f0f458b2"
      },
      "execution_count": 68,
      "outputs": [
        {
          "output_type": "stream",
          "name": "stdout",
          "text": [
            ">Enter a number: 5\n",
            ">Enter a number: 3\n",
            ">Enter a number: 10\n",
            ">Enter a number: -999999\n",
            "The total is 18\n"
          ]
        }
      ]
    },
    {
      "cell_type": "markdown",
      "source": [
        "**Q20**: Calculate salary with validation\n",
        "\n",
        "เขียนโปรแกรมที่รับจำนวนชั่วโมง และเรทเงินเดือนต่อชม และแสดงผลเงินเดือนที่ได้หมดมา\n",
        "\n",
        "สำหรับโปรแกรมนี้นั้น จะต้องตรวจสอบก่อนว่า ค่าจำนวนชมและเรท จะต้องไม่ติดลบ. (คำใบ้: เช็คที่ละอัน)\n",
        "\n",
        "---\n",
        "\n",
        "Write a program to calculate monthly salary from the number of hours (`hour`) and rate per hour (`rate`).\n",
        "\n",
        "Importantly, your program must validate that `hour` and `rate` are positive numbers. If they are not, you must keep asking the user. (Hint: You want validate hour first and then rate.)\n",
        "\n",
        "\n",
        "\n",
        "Input:\n",
        "- Real number, the number of hour.\n",
        "- Real number, rate per hour.\n",
        "\n",
        "Output:\n",
        "- Real number, your salary at two decimal places.\n",
        "\n",
        "\n",
        "Example 1:\n",
        "```\n",
        ">Enter hours: 20\n",
        ">Enter rate: 10\n",
        "Your salary is 200.00\n",
        "```\n",
        "\n",
        "Example 2:\n",
        "```\n",
        ">Enter hours: -10\n",
        "Invalid hours. Please reenter.\n",
        ">Enter hours: -20\n",
        "Invalid hours. Please reenter.\n",
        ">Enter hours: 30\n",
        ">Enter rate: 20\n",
        "Your salary is 600.00\n",
        "```\n",
        "\n",
        "Example 3:\n",
        "```\n",
        ">Enter hours: -25\n",
        "Invalid hours. Please reenter.\n",
        ">Enter hours: 40\n",
        ">Enter rate: -10\n",
        "Invalid rate. Please reenter.\n",
        ">Enter rate: 15\n",
        "Your salary is 600.00\n",
        "```"
      ],
      "metadata": {
        "id": "I7XL4jaNjhEg"
      }
    },
    {
      "cell_type": "code",
      "source": [
        "\n",
        "  hour = int(input(\">Enter hours: \"))\n",
        "  while hour < 0:\n",
        "    print(\"Invalid hours. Please reenter.\")\n",
        "    hour = int(input(\">Enter hours: \"))\n",
        "\n",
        "\n",
        "  rate = int(input(\"Enter rate: \"))\n",
        "  while rate < 0:\n",
        "    print(\"Invalid rate. Please reenter.\")\n",
        "    rate = int(input(\">Enter rate: \"))\n",
        "    total = hour * rate\n",
        "  print(f\"Your salary is {total:.2f}\")\n"
      ],
      "metadata": {
        "id": "KEn3UjFqks2w",
        "colab": {
          "base_uri": "https://localhost:8080/"
        },
        "outputId": "26fa1246-9318-47ae-83d4-090a60fde3ff"
      },
      "execution_count": 66,
      "outputs": [
        {
          "output_type": "stream",
          "name": "stdout",
          "text": [
            ">Enter hours: -25\n",
            "Invalid hours. Please reenter.\n",
            ">Enter hours: 40\n",
            "Enter rate: -10\n",
            "Invalid rate. Please reenter.\n",
            ">Enter rate: 15\n",
            "Your salary is 600.00\n"
          ]
        }
      ]
    }
  ]
}